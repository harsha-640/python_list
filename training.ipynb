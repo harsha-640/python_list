{
  "cells": [
    {
      "cell_type": "markdown",
      "metadata": {
        "colab_type": "text",
        "id": "view-in-github"
      },
      "source": [
        "<a href=\"https://colab.research.google.com/github/harsha-640/python_list/blob/main/training.ipynb\" target=\"_parent\"><img src=\"https://colab.research.google.com/assets/colab-badge.svg\" alt=\"Open In Colab\"/></a>"
      ]
    },
    {
      "cell_type": "code",
      "execution_count": null,
      "metadata": {
        "colab": {
          "base_uri": "https://localhost:8080/"
        },
        "id": "1-f949ruBxdM",
        "outputId": "868327e7-6b14-4c8b-d775-1cff06c8358b"
      },
      "outputs": [
        {
          "name": "stdout",
          "output_type": "stream",
          "text": [
            "22\n"
          ]
        }
      ],
      "source": [
        "a=10\n",
        "a+=12\n",
        "print(a)"
      ]
    },
    {
      "cell_type": "code",
      "execution_count": null,
      "metadata": {
        "colab": {
          "base_uri": "https://localhost:8080/"
        },
        "id": "xmiVzn9Q3uyd",
        "outputId": "cf059022-ea2c-4b6d-be72-0756cfe6cbf7"
      },
      "outputs": [
        {
          "name": "stdout",
          "output_type": "stream",
          "text": [
            "300\n",
            "-100\n",
            "0.5\n"
          ]
        }
      ],
      "source": [
        "a=100\n",
        "b=200\n",
        "print(a+b)\n",
        "print(a-b)\n",
        "print(a/b)"
      ]
    },
    {
      "cell_type": "code",
      "execution_count": null,
      "metadata": {
        "colab": {
          "base_uri": "https://localhost:8080/"
        },
        "id": "_IEZzFRr4UBH",
        "outputId": "5f7df07f-e8e0-41c7-c8f4-a0600f1c3dd0"
      },
      "outputs": [
        {
          "name": "stdout",
          "output_type": "stream",
          "text": [
            "enter a number25\n",
            "enter a number30\n",
            "55\n"
          ]
        }
      ],
      "source": [
        "a=int(input(\"enter a number\"))\n",
        "b=int(input(\"enter a number\"))\n",
        "print(a+b)"
      ]
    },
    {
      "cell_type": "code",
      "execution_count": null,
      "metadata": {
        "colab": {
          "base_uri": "https://localhost:8080/"
        },
        "id": "rLy6z9VS5dhc",
        "outputId": "9cf19e8d-3894-43a3-96b4-391e43a5fe81"
      },
      "outputs": [
        {
          "name": "stdout",
          "output_type": "stream",
          "text": [
            "True\n",
            "True\n"
          ]
        }
      ],
      "source": [
        "a=200\n",
        "b=350\n",
        "c=400\n",
        "print(a>=b and c>a or c>b)\n",
        "print(b>c and b>a or c>=a)"
      ]
    },
    {
      "cell_type": "code",
      "execution_count": null,
      "metadata": {
        "colab": {
          "base_uri": "https://localhost:8080/"
        },
        "id": "nC20959C74sz",
        "outputId": "35fda56d-b17a-48d0-d6ca-b662af84ea42"
      },
      "outputs": [
        {
          "name": "stdout",
          "output_type": "stream",
          "text": [
            "False\n"
          ]
        }
      ],
      "source": [
        "x=10\n",
        "b= not x\n",
        "print(b)"
      ]
    },
    {
      "cell_type": "code",
      "execution_count": null,
      "metadata": {
        "colab": {
          "base_uri": "https://localhost:8080/"
        },
        "id": "PuftuU8R8SDJ",
        "outputId": "5d02510f-06f3-47d6-8a59-7db43635369c"
      },
      "outputs": [
        {
          "name": "stdout",
          "output_type": "stream",
          "text": [
            "True\n",
            "False\n"
          ]
        }
      ],
      "source": [
        "print(2==2)\n",
        "print(2!=2)"
      ]
    },
    {
      "cell_type": "code",
      "execution_count": null,
      "metadata": {
        "colab": {
          "base_uri": "https://localhost:8080/"
        },
        "id": "t1i03kcE84A3",
        "outputId": "5af1cbe1-9cd7-4c29-a9dc-9ab8785f3da5"
      },
      "outputs": [
        {
          "name": "stdout",
          "output_type": "stream",
          "text": [
            "enter otp2357\n",
            "login successful\n"
          ]
        }
      ],
      "source": [
        "otp=int(input('enter otp'))\n",
        "if otp==2357:\n",
        "  print('login successful')\n",
        "else:\n",
        "  print('login failed')"
      ]
    },
    {
      "cell_type": "code",
      "execution_count": null,
      "metadata": {
        "id": "D6DzLIL7-13X"
      },
      "outputs": [],
      "source": [
        "ki=[1,2,3,4,3]\n",
        "ki1=[3,4,4,5]\n",
        "l1=[1,2,3,78]\n",
        "li=list(zip(ki,ki1,li))\n",
        "print(\"list of\")"
      ]
    },
    {
      "cell_type": "code",
      "execution_count": null,
      "metadata": {
        "colab": {
          "base_uri": "https://localhost:8080/"
        },
        "id": "m01Mvh4T7FZZ",
        "outputId": "2e6fcdd1-892e-475a-e714-7b6d753ffcf4"
      },
      "outputs": [
        {
          "data": {
            "text/plain": [
              "[(0, 4), (1, 5), (2, 6), (3, 7), (4, 8), (5, 9)]"
            ]
          },
          "execution_count": 5,
          "metadata": {},
          "output_type": "execute_result"
        }
      ],
      "source": [
        "l1=[4,5,6,7,8,9]\n",
        "list(enumerate(l1))"
      ]
    },
    {
      "cell_type": "code",
      "execution_count": null,
      "metadata": {
        "colab": {
          "base_uri": "https://localhost:8080/"
        },
        "id": "WHY8qZnS7esQ",
        "outputId": "f86b41cc-9581-4e1d-dad0-ccb7722ec8f2"
      },
      "outputs": [
        {
          "name": "stdout",
          "output_type": "stream",
          "text": [
            "[4, 5, 6, 7, 9, 11]\n"
          ]
        }
      ],
      "source": [
        "l1=[4,5,6,7,11,9]\n",
        "l1.sort()\n",
        "print(l1)"
      ]
    },
    {
      "cell_type": "code",
      "execution_count": null,
      "metadata": {
        "colab": {
          "base_uri": "https://localhost:8080/"
        },
        "id": "z3K9S6pP9AtT",
        "outputId": "cdbf44fd-72fb-4218-832e-48cfb8062b4d"
      },
      "outputs": [
        {
          "name": "stdout",
          "output_type": "stream",
          "text": [
            "(2, 4, 5, 6, 7, 8)\n"
          ]
        }
      ],
      "source": [
        "tuple=(2,4,5,6,7,8)\n",
        "print(tuple)"
      ]
    },
    {
      "cell_type": "code",
      "execution_count": 1,
      "metadata": {
        "id": "cpa_1vZyhC4_"
      },
      "outputs": [
        {
          "name": "stdout",
          "output_type": "stream",
          "text": [
            "2\n",
            "4\n",
            "6\n",
            "8\n",
            "10\n",
            "12\n",
            "14\n",
            "16\n",
            "18\n"
          ]
        }
      ],
      "source": [
        "#even numbers\n",
        "n=int(input(\"enter a number\"))\n",
        "for i in range(1,n):\n",
        "    if i%2==0:\n",
        "        print(i)"
      ]
    }
  ],
  "metadata": {
    "colab": {
      "authorship_tag": "ABX9TyMERIZ4BHy/aXaUg6gs22vp",
      "include_colab_link": true,
      "provenance": []
    },
    "kernelspec": {
      "display_name": "Python 3.8.5 ('base')",
      "language": "python",
      "name": "python3"
    },
    "language_info": {
      "codemirror_mode": {
        "name": "ipython",
        "version": 3
      },
      "file_extension": ".py",
      "mimetype": "text/x-python",
      "name": "python",
      "nbconvert_exporter": "python",
      "pygments_lexer": "ipython3",
      "version": "3.8.5"
    },
    "vscode": {
      "interpreter": {
        "hash": "9c0733d700afdcc9b99b5a4d23fc2b39166350d3cbbf8bb94a85cd6bca8fd996"
      }
    }
  },
  "nbformat": 4,
  "nbformat_minor": 0
}
