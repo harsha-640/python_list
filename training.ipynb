{
  "nbformat": 4,
  "nbformat_minor": 0,
  "metadata": {
    "colab": {
      "provenance": [],
      "authorship_tag": "ABX9TyMERIZ4BHy/aXaUg6gs22vp",
      "include_colab_link": true
    },
    "kernelspec": {
      "name": "python3",
      "display_name": "Python 3"
    },
    "language_info": {
      "name": "python"
    }
  },
  "cells": [
    {
      "cell_type": "markdown",
      "metadata": {
        "id": "view-in-github",
        "colab_type": "text"
      },
      "source": [
        "<a href=\"https://colab.research.google.com/github/harsha-640/python_list/blob/main/training.ipynb\" target=\"_parent\"><img src=\"https://colab.research.google.com/assets/colab-badge.svg\" alt=\"Open In Colab\"/></a>"
      ]
    },
    {
      "cell_type": "code",
      "execution_count": null,
      "metadata": {
        "colab": {
          "base_uri": "https://localhost:8080/"
        },
        "id": "1-f949ruBxdM",
        "outputId": "868327e7-6b14-4c8b-d775-1cff06c8358b"
      },
      "outputs": [
        {
          "output_type": "stream",
          "name": "stdout",
          "text": [
            "22\n"
          ]
        }
      ],
      "source": [
        "a=10\n",
        "a+=12\n",
        "print(a)"
      ]
    },
    {
      "cell_type": "code",
      "source": [
        "a=100\n",
        "b=200\n",
        "print(a+b)\n",
        "print(a-b)\n",
        "print(a/b)"
      ],
      "metadata": {
        "colab": {
          "base_uri": "https://localhost:8080/"
        },
        "id": "xmiVzn9Q3uyd",
        "outputId": "cf059022-ea2c-4b6d-be72-0756cfe6cbf7"
      },
      "execution_count": null,
      "outputs": [
        {
          "output_type": "stream",
          "name": "stdout",
          "text": [
            "300\n",
            "-100\n",
            "0.5\n"
          ]
        }
      ]
    },
    {
      "cell_type": "code",
      "source": [
        "a=int(input(\"enter a number\"))\n",
        "b=int(input(\"enter a number\"))\n",
        "print(a+b)"
      ],
      "metadata": {
        "colab": {
          "base_uri": "https://localhost:8080/"
        },
        "id": "_IEZzFRr4UBH",
        "outputId": "5f7df07f-e8e0-41c7-c8f4-a0600f1c3dd0"
      },
      "execution_count": null,
      "outputs": [
        {
          "output_type": "stream",
          "name": "stdout",
          "text": [
            "enter a number25\n",
            "enter a number30\n",
            "55\n"
          ]
        }
      ]
    },
    {
      "cell_type": "code",
      "source": [
        "a=200\n",
        "b=350\n",
        "c=400\n",
        "print(a>=b and c>a or c>b)\n",
        "print(b>c and b>a or c>=a)"
      ],
      "metadata": {
        "colab": {
          "base_uri": "https://localhost:8080/"
        },
        "id": "rLy6z9VS5dhc",
        "outputId": "9cf19e8d-3894-43a3-96b4-391e43a5fe81"
      },
      "execution_count": null,
      "outputs": [
        {
          "output_type": "stream",
          "name": "stdout",
          "text": [
            "True\n",
            "True\n"
          ]
        }
      ]
    },
    {
      "cell_type": "code",
      "source": [
        "x=10\n",
        "b= not x\n",
        "print(b)"
      ],
      "metadata": {
        "colab": {
          "base_uri": "https://localhost:8080/"
        },
        "id": "nC20959C74sz",
        "outputId": "35fda56d-b17a-48d0-d6ca-b662af84ea42"
      },
      "execution_count": null,
      "outputs": [
        {
          "output_type": "stream",
          "name": "stdout",
          "text": [
            "False\n"
          ]
        }
      ]
    },
    {
      "cell_type": "code",
      "source": [
        "print(2==2)\n",
        "print(2!=2)"
      ],
      "metadata": {
        "colab": {
          "base_uri": "https://localhost:8080/"
        },
        "id": "PuftuU8R8SDJ",
        "outputId": "5d02510f-06f3-47d6-8a59-7db43635369c"
      },
      "execution_count": null,
      "outputs": [
        {
          "output_type": "stream",
          "name": "stdout",
          "text": [
            "True\n",
            "False\n"
          ]
        }
      ]
    },
    {
      "cell_type": "code",
      "source": [
        "otp=int(input('enter otp'))\n",
        "if otp==2357:\n",
        "  print('login successful')\n",
        "else:\n",
        "  print('login failed')"
      ],
      "metadata": {
        "colab": {
          "base_uri": "https://localhost:8080/"
        },
        "id": "t1i03kcE84A3",
        "outputId": "5af1cbe1-9cd7-4c29-a9dc-9ab8785f3da5"
      },
      "execution_count": null,
      "outputs": [
        {
          "output_type": "stream",
          "name": "stdout",
          "text": [
            "enter otp2357\n",
            "login successful\n"
          ]
        }
      ]
    },
    {
      "cell_type": "code",
      "source": [
        "ki=[1,2,3,4,3]\n",
        "ki1=[3,4,4,5]\n",
        "l1=[1,2,3,78]\n",
        "li=list(zip(ki,ki1,li))\n",
        "print(\"list of\")"
      ],
      "metadata": {
        "id": "D6DzLIL7-13X"
      },
      "execution_count": null,
      "outputs": []
    },
    {
      "cell_type": "code",
      "source": [
        "l1=[4,5,6,7,8,9]\n",
        "list(enumerate(l1))"
      ],
      "metadata": {
        "colab": {
          "base_uri": "https://localhost:8080/"
        },
        "id": "m01Mvh4T7FZZ",
        "outputId": "2e6fcdd1-892e-475a-e714-7b6d753ffcf4"
      },
      "execution_count": null,
      "outputs": [
        {
          "output_type": "execute_result",
          "data": {
            "text/plain": [
              "[(0, 4), (1, 5), (2, 6), (3, 7), (4, 8), (5, 9)]"
            ]
          },
          "metadata": {},
          "execution_count": 5
        }
      ]
    },
    {
      "cell_type": "code",
      "source": [
        "l1=[4,5,6,7,11,9]\n",
        "l1.sort()\n",
        "print(l1)"
      ],
      "metadata": {
        "colab": {
          "base_uri": "https://localhost:8080/"
        },
        "id": "WHY8qZnS7esQ",
        "outputId": "f86b41cc-9581-4e1d-dad0-ccb7722ec8f2"
      },
      "execution_count": null,
      "outputs": [
        {
          "output_type": "stream",
          "name": "stdout",
          "text": [
            "[4, 5, 6, 7, 9, 11]\n"
          ]
        }
      ]
    },
    {
      "cell_type": "code",
      "source": [
        "tuple=(2,4,5,6,7,8)\n",
        "print(tuple)"
      ],
      "metadata": {
        "colab": {
          "base_uri": "https://localhost:8080/"
        },
        "id": "z3K9S6pP9AtT",
        "outputId": "cdbf44fd-72fb-4218-832e-48cfb8062b4d"
      },
      "execution_count": null,
      "outputs": [
        {
          "output_type": "stream",
          "name": "stdout",
          "text": [
            "(2, 4, 5, 6, 7, 8)\n"
          ]
        }
      ]
    },
    {
      "cell_type": "code",
      "source": [],
      "metadata": {
        "id": "cpa_1vZyhC4_"
      },
      "execution_count": null,
      "outputs": []
    }
  ]
}